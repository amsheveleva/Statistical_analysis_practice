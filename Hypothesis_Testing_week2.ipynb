{
  "cells": [
    {
      "cell_type": "markdown",
      "metadata": {
        "id": "TDmyJ9028EQ1"
      },
      "source": [
        "### Importing the necessary libraries"
      ]
    },
    {
      "cell_type": "code",
      "execution_count": 1,
      "metadata": {
        "id": "lHhiZ0ao8EQ4"
      },
      "outputs": [],
      "source": [
        "import numpy as np\n",
        "import pandas as pd\n",
        "import matplotlib.pyplot as plt\n",
        "import scipy.stats as stats"
      ]
    },
    {
      "cell_type": "markdown",
      "metadata": {
        "id": "b25WTC0d8EQ5"
      },
      "source": [
        "### Q1. Samy, Product Manager of K2 Jeans, wants to Launch a product line in a new market area. A survey of a random sample of 400 households in that market showed a mean income of 30000 dollars per household. The standard deviation based on an earlier pilot study is 8000 dollars. Samy strongly believes that the product line will be adequately profitable only in markets where the mean household income is greater than 29000 dollars. Samy wants your help in deciding whether the product line should be introduced in the new market. Perform statistical analysis with a significance level of 0.05 and conclude."
      ]
    },
    {
      "cell_type": "code",
      "execution_count": null,
      "metadata": {
        "id": "5YWMCjvy8EQ6",
        "colab": {
          "base_uri": "https://localhost:8080/"
        },
        "outputId": "eaf88a46-95ef-4eac-f424-2571e01ff02a"
      },
      "outputs": [
        {
          "output_type": "execute_result",
          "data": {
            "text/plain": [
              "0.006209665325776159"
            ]
          },
          "metadata": {},
          "execution_count": 5
        }
      ],
      "source": [
        "z=(30000-29000)/(8000/np.sqrt(400))\n",
        "1-stats.norm.cdf(z)"
      ]
    },
    {
      "cell_type": "markdown",
      "metadata": {
        "id": "FCj6VhY68EQ6"
      },
      "source": [
        "# One-sample t-test"
      ]
    },
    {
      "cell_type": "markdown",
      "metadata": {
        "_cell_guid": "9b9566bb-e9b5-4b48-9b45-0194167d2b2b",
        "_uuid": "6256e72b89e829fc8583163418120a3e50aaa156",
        "id": "euOWOovJE43G"
      },
      "source": [
        "### Q2. The average mass of all acorns is 10 g. The mass of 20 acorns collected from a forest, subjected to acid rain from a coal power plant, are m = 8.8, 6.6, 9.5, 11.2, 10.2, 7.4, 8.0, 9.6, 9.9, 9.0, 7.6, 7.4, 10.4, 11.1, 8.5, 10.0, 11.6, 10.7, 10.3, and 7.0 g. Is there enough statistical evidence to conclude that the average mass of this sample is different from the average mass of acorns with a significance level of 0.05?"
      ]
    },
    {
      "cell_type": "markdown",
      "metadata": {
        "id": "YydeJ9Wo8EQ7"
      },
      "source": [
        "**a) Formulate the null hypothesis and alternate hypothesis**"
      ]
    },
    {
      "cell_type": "code",
      "execution_count": null,
      "metadata": {
        "id": "YkGOxC0C8EQ7",
        "colab": {
          "base_uri": "https://localhost:8080/"
        },
        "outputId": "003cad4f-c498-42fb-d71e-69f23002bd7a"
      },
      "outputs": [
        {
          "output_type": "stream",
          "name": "stdout",
          "text": [
            "The p-value is  0.03655562279112415\n"
          ]
        }
      ],
      "source": [
        "# import the required functions\n",
        "from scipy.stats import ttest_1samp\n",
        "mass=[8.8, 6.6, 9.5, 11.2, 10.2, 7.4, 8.0, 9.6, 9.9, 9.0, 7.6, 7.4, 10.4, 11.1, 8.5, 10.0, 11.6, 10.7, 10.3, 7.0 ]\n",
        "# calculate the test statistic and p-value\n",
        "test_stat, p_value = ttest_1samp(mass, popmean = 10, alternative = 'two-sided')\n",
        "print('The p-value is ', p_value)\n"
      ]
    },
    {
      "cell_type": "markdown",
      "metadata": {
        "id": "OLBflq2Q8EQ7"
      },
      "source": [
        "**b) Calculate the test statistics and based on the p-value provide a conclusion.**"
      ]
    },
    {
      "cell_type": "code",
      "execution_count": null,
      "metadata": {
        "id": "XiYuNa8z8EQ8"
      },
      "outputs": [],
      "source": []
    },
    {
      "cell_type": "markdown",
      "metadata": {
        "id": "o5beaenS8EQ8"
      },
      "source": [
        "# Independent (unpaired) two-sample t-test"
      ]
    },
    {
      "cell_type": "markdown",
      "metadata": {
        "_cell_guid": "fd17fd23-4f92-403e-aada-0b61433b22e9",
        "_uuid": "948240552a9daac38010e7ec652d02adbdfab6f7",
        "id": "ulAnmKcwE43M"
      },
      "source": [
        "### Q3. The mass of N<sub>1</sub>=20 acorns from oak trees upwind from a coal power plant and N<sub>2</sub>=30 acorns from oak trees downwind from the same coal power plant is measured. Is the mass of acorns from trees downwind different from the ones from upwind?\n",
        "\n",
        "**Note:**\n",
        "- The sample sizes are not equal but we will assume that the population variance of sample 1 and sample 2 are equal to satisfy the assumptions.\n",
        "- Since the significance level is not provided. We can assume it to be 0.05.\n",
        "\n",
        "#### sample upwind:\n",
        "x1 = [10.8, 10.0, 8.2, 9.9, 11.6, 10.1, 11.3, 10.3, 10.7, 9.7,\n",
        "      7.8, 9.6, 9.7, 11.6, 10.3, 9.8, 12.3, 11.0, 10.4, 10.4]\n",
        "\n",
        "#### sample downwind:\n",
        "x2 = [7.8, 7.5, 9.5, 11.7, 8.1, 8.8, 8.8, 7.7, 9.7, 7.0,\n",
        "      9.0, 9.7, 11.3, 8.7, 8.8, 10.9, 10.3, 9.6, 8.4, 6.6,\n",
        "      7.2, 7.6, 11.5, 6.6, 8.6, 10.5, 8.4, 8.5, 10.2, 9.2]"
      ]
    },
    {
      "cell_type": "markdown",
      "metadata": {
        "id": "2cNPCUnY8EQ9"
      },
      "source": [
        "**a) Formulate null hypothesis and alternate hypothesis.**"
      ]
    },
    {
      "cell_type": "code",
      "execution_count": null,
      "metadata": {
        "id": "e_QtyAQY8EQ9",
        "colab": {
          "base_uri": "https://localhost:8080/"
        },
        "outputId": "ce95f53b-96d3-4e14-bf34-9fad3ba506d9"
      },
      "outputs": [
        {
          "output_type": "stream",
          "name": "stdout",
          "text": [
            "10.275000000000002 1.0415733291516256\n",
            "8.94 1.3855444176688574\n"
          ]
        }
      ],
      "source": [
        "\n",
        "#H0: mu1=mu2\n",
        "#H1: mu1!=mu2\n",
        "x1=[10.8, 10.0, 8.2, 9.9, 11.6, 10.1, 11.3, 10.3, 10.7, 9.7, 7.8, 9.6, 9.7, 11.6, 10.3, 9.8, 12.3, 11.0, 10.4, 10.4]\n",
        "x2= [7.8, 7.5, 9.5, 11.7, 8.1, 8.8, 8.8, 7.7, 9.7, 7.0, 9.0, 9.7, 11.3, 8.7, 8.8, 10.9, 10.3, 9.6, 8.4, 6.6, 7.2, 7.6, 11.5, 6.6, 8.6, 10.5, 8.4, 8.5, 10.2, 9.2]\n",
        "mean1=np.mean(x1)\n",
        "std1=np.std(x1)\n",
        "mean2=np.mean(x2)\n",
        "std2=np.std(x2)\n",
        "print(mean1,std1)\n",
        "print(mean2,std2)"
      ]
    },
    {
      "cell_type": "markdown",
      "metadata": {
        "id": "q1UZTGu68EQ9"
      },
      "source": [
        "**b) Calculate the test statistic and based on the p-value provide a conclusion.**"
      ]
    },
    {
      "cell_type": "code",
      "execution_count": null,
      "metadata": {
        "id": "0jPaYcse8EQ-",
        "colab": {
          "base_uri": "https://localhost:8080/"
        },
        "outputId": "eefa916d-0793-4e44-fd38-e58129e17d65"
      },
      "outputs": [
        {
          "output_type": "stream",
          "name": "stdout",
          "text": [
            "The p-value is 0.0007560337478801464\n"
          ]
        }
      ],
      "source": [
        "from scipy.stats import ttest_ind\n",
        "\n",
        "# find the p-value\n",
        "test_stat, p_value = ttest_ind(x1, x2, equal_var = True, alternative = 'two-sided')\n",
        "print('The p-value is ' + str(p_value))"
      ]
    },
    {
      "cell_type": "markdown",
      "metadata": {
        "id": "VQad5-Ri8EQ-"
      },
      "source": [
        "# Paired samples t-test"
      ]
    },
    {
      "cell_type": "markdown",
      "metadata": {
        "_cell_guid": "9b5d97b5-9c0c-4a45-b333-36d3bdeecdcc",
        "_uuid": "8520e337989f942369ad861e6aebece17394efe3",
        "collapsed": true,
        "id": "1qEyYs3GE43P"
      },
      "source": [
        "### Q4. The average mass of acorns from the same N=30 trees downwind of a power plant is measured before (x<sub>1</sub>) and after (x<sub>2</sub>) the power plant converts burning coal to burning natural gas. Does the mass of the acorns change after the conversion from coal to natural gas?\n",
        "\n",
        "**Note**: Since the significance level is not provided. We can assume it to be 0.05.\n",
        "\n",
        "### sample before conversion to natural gas\n",
        "x1 = np.array([10.8, 6.4, 8.3, 7.6, 11.4, 9.9, 10.6, 8.7, 8.1, 10.9,\n",
        "      11.0, 11.8, 7.3, 9.6, 9.3, 9.9, 9.0, 9.5, 10.6, 10.3,\n",
        "      8.8, 12.3, 8.9, 10.5, 11.6, 7.6, 8.9, 10.4, 10.2, 8.8])\n",
        "\n",
        "### sample after conversion to natural gas\n",
        "x2 = np.array([10.1, 6.9, 8.6, 8.8, 12.1, 11.3, 12.4, 9.3, 9.3, 10.8,\n",
        "      12.4, 11.5, 7.4, 10.0, 11.1, 10.6, 9.4, 9.5, 10.0, 10.0,\n",
        "      9.7, 13.5, 9.6, 11.6, 11.7, 7.9, 8.6, 10.8, 9.5, 9.6])"
      ]
    },
    {
      "cell_type": "markdown",
      "metadata": {
        "id": "c6-NX4Mi8EQ_"
      },
      "source": [
        "**a) Formulate null hypothesis and alternate hypothesis.**"
      ]
    },
    {
      "cell_type": "code",
      "execution_count": null,
      "metadata": {
        "id": "fMJLj4fi8EQ_",
        "colab": {
          "base_uri": "https://localhost:8080/"
        },
        "outputId": "95b2b434-1ee4-45ce-f4fe-e960337f9382"
      },
      "outputs": [
        {
          "output_type": "stream",
          "name": "stdout",
          "text": [
            "10.275000000000002 1.4131131904022725\n",
            "10.133333333333333 1.5087154212184024\n"
          ]
        }
      ],
      "source": [
        "x1= np.array([10.8, 6.4, 8.3, 7.6, 11.4, 9.9, 10.6, 8.7, 8.1, 10.9, 11.0, 11.8, 7.3, 9.6, 9.3, 9.9, 9.0, 9.5, 10.6, 10.3, 8.8, 12.3, 8.9, 10.5, 11.6, 7.6, 8.9, 10.4, 10.2, 8.8])\n",
        "x2= np.array([10.1, 6.9, 8.6, 8.8, 12.1, 11.3, 12.4, 9.3, 9.3, 10.8, 12.4, 11.5, 7.4, 10.0, 11.1, 10.6, 9.4, 9.5, 10.0, 10.0, 9.7, 13.5, 9.6, 11.6, 11.7, 7.9, 8.6, 10.8, 9.5, 9.6])\n",
        "std1=np.std(x1)\n",
        "mean2=np.mean(x2)\n",
        "std2=np.std(x2)\n",
        "print(mean1,std1)\n",
        "print(mean2,std2)"
      ]
    },
    {
      "cell_type": "markdown",
      "metadata": {
        "id": "R3yAREhD8ERA"
      },
      "source": [
        "**b) Calculate the test statistic and based on the p-value provide a conclusion.**"
      ]
    },
    {
      "cell_type": "code",
      "execution_count": null,
      "metadata": {
        "id": "2AD7avYt8ERA",
        "colab": {
          "base_uri": "https://localhost:8080/"
        },
        "outputId": "520afd15-794c-4948-993e-cd8ffd53080f"
      },
      "outputs": [
        {
          "output_type": "stream",
          "name": "stdout",
          "text": [
            "The p-value is  0.0005168689824684378\n"
          ]
        }
      ],
      "source": [
        "from scipy.stats import ttest_rel\n",
        "\n",
        "# find the p-value\n",
        "test_stat, p_value = ttest_rel(x1, x2, alternative = 'two-sided')\n",
        "print('The p-value is ', p_value)"
      ]
    },
    {
      "cell_type": "code",
      "source": [
        "\n",
        "a = [\"a\", \"b\", \"c\"]\n",
        "b = \"Hello\"\n",
        "a.extend(b)\n",
        "print(a)"
      ],
      "metadata": {
        "colab": {
          "base_uri": "https://localhost:8080/"
        },
        "id": "oCVRhrjo45Qd",
        "outputId": "98d1eec8-6979-4be3-82cb-2c9943fa55f7"
      },
      "execution_count": null,
      "outputs": [
        {
          "output_type": "stream",
          "name": "stdout",
          "text": [
            "['a', 'b', 'c', 'H', 'e', 'l', 'l', 'o']\n"
          ]
        }
      ]
    },
    {
      "cell_type": "code",
      "source": [
        "List = [1, 2, 3, 4, 5, 6, 7, 8, 9,10]\n",
        "print(List[::2])"
      ],
      "metadata": {
        "colab": {
          "base_uri": "https://localhost:8080/"
        },
        "id": "OMwnXu9g54Wu",
        "outputId": "8fbc6a99-4107-447c-8fd9-ed6be4974ddc"
      },
      "execution_count": null,
      "outputs": [
        {
          "output_type": "stream",
          "name": "stdout",
          "text": [
            "[1, 3, 5, 7, 9]\n"
          ]
        }
      ]
    },
    {
      "cell_type": "code",
      "source": [
        "Employee = {1: {'Name': 'John', 'Age': '35', 'Gender': 'Male'}, 2: {'Name': 'Mike', 'Age': '22', 'Gender': 'Male'}}\n",
        "Employee[1]['Age']"
      ],
      "metadata": {
        "colab": {
          "base_uri": "https://localhost:8080/",
          "height": 35
        },
        "id": "Scs5u-rG6NWj",
        "outputId": "1af5ca1f-fe93-4c41-db62-29d78c3d8f5b"
      },
      "execution_count": null,
      "outputs": [
        {
          "output_type": "execute_result",
          "data": {
            "text/plain": [
              "'35'"
            ],
            "application/vnd.google.colaboratory.intrinsic+json": {
              "type": "string"
            }
          },
          "metadata": {},
          "execution_count": 30
        }
      ]
    },
    {
      "cell_type": "code",
      "source": [
        "var = 10\n",
        "for i in range(5):\n",
        "    for j in range(2, 5, 1):\n",
        "        if var % 2 == 0:\n",
        "            continue\n",
        "            var += 1\n",
        "    var+=1\n",
        "print(var)"
      ],
      "metadata": {
        "colab": {
          "base_uri": "https://localhost:8080/"
        },
        "id": "jYDN8fRv64sf",
        "outputId": "23ea1a5c-7c4e-4bd5-8747-184fef174cf9"
      },
      "execution_count": null,
      "outputs": [
        {
          "output_type": "stream",
          "name": "stdout",
          "text": [
            "15\n"
          ]
        }
      ]
    },
    {
      "cell_type": "code",
      "source": [
        "func=lambda x:bool(x%2)\n",
        "print(func(10), func(21))"
      ],
      "metadata": {
        "colab": {
          "base_uri": "https://localhost:8080/"
        },
        "id": "ls4eF23A6_tF",
        "outputId": "5c9052cb-922c-4b7e-e245-e8d5cf190bc8"
      },
      "execution_count": null,
      "outputs": [
        {
          "output_type": "stream",
          "name": "stdout",
          "text": [
            "False True\n"
          ]
        }
      ]
    },
    {
      "cell_type": "code",
      "source": [
        "x1=np.array([48, 50, 54, 54, 58, 60])\n",
        "stats.mode(x1)"
      ],
      "metadata": {
        "colab": {
          "base_uri": "https://localhost:8080/"
        },
        "id": "XkxwpMjg-atq",
        "outputId": "12db7dab-4017-40d9-c00d-c8d97b981624"
      },
      "execution_count": 5,
      "outputs": [
        {
          "output_type": "stream",
          "name": "stderr",
          "text": [
            "<ipython-input-5-5c540f5423ac>:2: FutureWarning: Unlike other reduction functions (e.g. `skew`, `kurtosis`), the default behavior of `mode` typically preserves the axis it acts along. In SciPy 1.11.0, this behavior will change: the default value of `keepdims` will become False, the `axis` over which the statistic is taken will be eliminated, and the value None will no longer be accepted. Set `keepdims` to True or False to avoid this warning.\n",
            "  stats.mode(x1)\n"
          ]
        },
        {
          "output_type": "execute_result",
          "data": {
            "text/plain": [
              "ModeResult(mode=array([54]), count=array([2]))"
            ]
          },
          "metadata": {},
          "execution_count": 5
        }
      ]
    }
  ],
  "metadata": {
    "kernelspec": {
      "display_name": "Python 3 (ipykernel)",
      "language": "python",
      "name": "python3"
    },
    "language_info": {
      "codemirror_mode": {
        "name": "ipython",
        "version": 3
      },
      "file_extension": ".py",
      "mimetype": "text/x-python",
      "name": "python",
      "nbconvert_exporter": "python",
      "pygments_lexer": "ipython3",
      "version": "3.9.7"
    },
    "toc": {
      "base_numbering": 1,
      "nav_menu": {},
      "number_sections": true,
      "sideBar": true,
      "skip_h1_title": false,
      "title_cell": "Table of Contents",
      "title_sidebar": "Contents",
      "toc_cell": false,
      "toc_position": {},
      "toc_section_display": true,
      "toc_window_display": false
    },
    "colab": {
      "provenance": []
    }
  },
  "nbformat": 4,
  "nbformat_minor": 0
}